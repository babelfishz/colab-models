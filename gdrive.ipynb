{
  "nbformat": 4,
  "nbformat_minor": 0,
  "metadata": {
    "colab": {
      "name": "gdrive.ipynb",
      "provenance": [],
      "collapsed_sections": [],
      "include_colab_link": true
    },
    "kernelspec": {
      "name": "python3",
      "display_name": "Python 3"
    }
  },
  "cells": [
    {
      "cell_type": "markdown",
      "metadata": {
        "id": "view-in-github",
        "colab_type": "text"
      },
      "source": [
        "<a href=\"https://colab.research.google.com/github/babelfishz/colab-models/blob/master/gdrive.ipynb\" target=\"_parent\"><img src=\"https://colab.research.google.com/assets/colab-badge.svg\" alt=\"Open In Colab\"/></a>"
      ]
    },
    {
      "cell_type": "code",
      "metadata": {
        "id": "FaumF_YlOzuZ",
        "colab_type": "code",
        "outputId": "ea2d1fdb-cd18-419c-86c0-397546324c6b",
        "colab": {
          "base_uri": "https://localhost:8080/",
          "height": 127
        }
      },
      "source": [
        "from google.colab import drive\n",
        "drive.mount('/content/gdrive')"
      ],
      "execution_count": 1,
      "outputs": [
        {
          "output_type": "stream",
          "text": [
            "Go to this URL in a browser: https://accounts.google.com/o/oauth2/auth?client_id=947318989803-6bn6qk8qdgf4n4g3pfee6491hc0brc4i.apps.googleusercontent.com&redirect_uri=urn%3aietf%3awg%3aoauth%3a2.0%3aoob&response_type=code&scope=email%20https%3a%2f%2fwww.googleapis.com%2fauth%2fdocs.test%20https%3a%2f%2fwww.googleapis.com%2fauth%2fdrive%20https%3a%2f%2fwww.googleapis.com%2fauth%2fdrive.photos.readonly%20https%3a%2f%2fwww.googleapis.com%2fauth%2fpeopleapi.readonly\n",
            "\n",
            "Enter your authorization code:\n",
            "··········\n",
            "Mounted at /content/gdrive\n"
          ],
          "name": "stdout"
        }
      ]
    },
    {
      "cell_type": "code",
      "metadata": {
        "id": "1sHgldfcBXgM",
        "colab_type": "code",
        "outputId": "e853f3a6-3f8e-4f2a-a995-96d9b8e6b338",
        "colab": {
          "base_uri": "https://localhost:8080/",
          "height": 35
        }
      },
      "source": [
        "!ls /content/gdrive/My\\ Drive"
      ],
      "execution_count": 4,
      "outputs": [
        {
          "output_type": "stream",
          "text": [
            "'Colab Notebooks'   _models   orchids   我的足迹\n"
          ],
          "name": "stdout"
        }
      ]
    },
    {
      "cell_type": "code",
      "metadata": {
        "id": "Q0ZJ_bLg91rc",
        "colab_type": "code",
        "outputId": "ce8de74c-e52d-4c91-ba2b-8296531bd3e0",
        "colab": {
          "base_uri": "https://localhost:8080/",
          "height": 35
        }
      },
      "source": [
        "\n",
        "#%cd /home\n",
        "#!rm -rf *\n",
        "!pwd\n",
        "!ls \n"
      ],
      "execution_count": 0,
      "outputs": [
        {
          "output_type": "stream",
          "text": [
            "/home/orchids/钳唇兰\n"
          ],
          "name": "stdout"
        }
      ]
    },
    {
      "cell_type": "code",
      "metadata": {
        "colab_type": "code",
        "id": "vlJY48sF92Nt",
        "colab": {}
      },
      "source": [
        "import os,sys\n",
        "from PIL import Image\n",
        "from pathlib import Path\n",
        "import urllib.request\n",
        "import shutil\n",
        "import requests\n",
        "import time\n",
        "\n",
        "#print(sys.version)\n",
        "\n",
        "url =\"http://www.ocalendar.com.cn/api/photo/test/\"\n",
        "userId = 'eyJpdiI6InNIR2ZEZUNtMjR3V292bjlBNWJoeFE9PSIsInZhbHVlIjoiUlwvUk1wcnFkUEpYNktuVXY3dnRadzNNTk0yNzhmOVcrWDNXQUtFVXY5dE1BR0MrSWVuQjRlUlQ1aXBja3VtYWwiLCJtYWMiOiJmZjYzNWY1ZWY3OTU5NTljNWQ2ZmIxNDcxOGZkYzI0N2U0ZDUyZWYwNGQwYzQ3YTlhNzVmOWUyM2I5M2MwN2Y5In0'\n",
        "PARAMS = {\n",
        "    'userId': userId,\n",
        "} \n",
        "response = requests.get(url=url, params = PARAMS)\n",
        "data0 = response.json()\n",
        "data = data0[1:]\n",
        "\n",
        "#print(data)\n",
        "\n",
        "\n",
        "for flora in data:\n",
        "  name = flora['floraName']\n",
        "  path = '/home/orchids/'+ name\n",
        "  print(name)\n",
        "  print(path)\n",
        "\n",
        "  #prevdir = os.getcwd()\n",
        "  Path(path).mkdir(parents=True, exist_ok=True)\n",
        "  \n",
        "\n",
        "  dstPath ='/content/gdrive/My Drive/test/' + name\n",
        "  Path(dstPath).mkdir(parents=True, exist_ok=True)\n",
        "\n",
        "  os.chdir(path)\n",
        "  #url =\"http://www.ocalendar.com.cn/api/photo/all/name/\" + name\n",
        "  url =\"http://www.ocalendar.com.cn/api/photo/all/name/\" + name\n",
        "  PARAMS = {'userId': userId}\n",
        "  res = requests.get(url=url, params = PARAMS)\n",
        "  resdata = res.json()\n",
        "  floras = resdata['floras']['data']\n",
        "  #print(floras)\n",
        "  for floraData in floras:\n",
        "    filePath = floraData['filePath']\n",
        "    fileName = floraData['fileName']\n",
        "    tempfile = \"temp\" + fileName\n",
        "    imageUrl =  'http://www.ocalendar.com.cn/'+ filePath + fileName\n",
        "    print(imageUrl)\n",
        "    try:\n",
        "      with urllib.request.urlopen(imageUrl) as response, open(tempfile, 'wb') as out_file:\n",
        "        shutil.copyfileobj(response, out_file)\n",
        "      im1 = Image.open(tempfile)\n",
        "      im_small = im1.resize((224, 224), Image.ANTIALIAS)\n",
        "      dstName = dstPath + '/' + fileName\n",
        "      print(dstName)\n",
        "\n",
        "      im_small.save(dstName) \n",
        "      os.remove(tempfile)\n",
        "    except:\n",
        "      print(\"something wrong\")\n",
        "      continue\n",
        "    #time.sleep(0.5)\n",
        "  #os.chdir(prevdir)\n",
        "  #print(\"wait 10 seconds\")\n",
        "  \n",
        "\n"
      ],
      "execution_count": 0,
      "outputs": []
    },
    {
      "cell_type": "code",
      "metadata": {
        "id": "MQoBcDfEZfFV",
        "colab_type": "code",
        "colab": {}
      },
      "source": [
        "!rm -rf '/content/gdrive/My Drive/dataset/'"
      ],
      "execution_count": 0,
      "outputs": []
    },
    {
      "cell_type": "code",
      "metadata": {
        "id": "1k9ehyIdFXEY",
        "colab_type": "code",
        "colab": {}
      },
      "source": [
        "import os\n",
        "from pathlib import Path\n",
        "import shutil\n",
        "\n",
        "dataSetPath = '/content/gdrive/My Drive/dataset/'\n",
        "#os.removedirs(dataSetPath)\n",
        "Path(dataSetPath).mkdir(parents=True, exist_ok=True)\n",
        "\n",
        "trainPath = dataSetPath +'train'\n",
        "testPath = dataSetPath +'test'\n",
        "valPath = dataSetPath +'val'\n",
        "\n",
        "Path(trainPath).mkdir(parents=True, exist_ok=True)\n",
        "Path(testPath).mkdir(parents=True, exist_ok=True)\n",
        "Path(valPath).mkdir(parents=True, exist_ok=True)\n",
        "\n",
        "srcPath ='/content/gdrive/My Drive/orchids/'\n",
        "names = os.listdir(srcPath)\n",
        "\n",
        "for name in names[:]:\n",
        "  path = trainPath + '/' + name\n",
        "  Path(path).mkdir(parents=True, exist_ok=True)\n",
        "\n",
        "  path = testPath + '/' + name\n",
        "  Path(path).mkdir(parents=True, exist_ok=True)\n",
        "\n",
        "  path = valPath + '/' + name\n",
        "  Path(path).mkdir(parents=True, exist_ok=True)\n",
        "\n",
        "  files = os.listdir(srcPath + '/'+name)\n",
        "\n",
        "  for file in files:\n",
        "    src = srcPath + name + '/' + file\n",
        "    dst = trainPath + '/' + name +'/' + file \n",
        "    shutil.copyfile(src,dst)\n",
        "\n",
        "  random.shuffle(files)\n",
        "  for file in files[0:6]:\n",
        "    src = srcPath + name + '/' + file\n",
        "    dst = testPath + '/' + name +'/' + file\n",
        "    shutil.copyfile(src,dst)\n",
        "\n",
        "  random.shuffle(files)\n",
        "  for file in files[0:6]:\n",
        "    src = srcPath + name + '/' + file\n",
        "    dst = valPath + '/' + name +'/' + file\n",
        "    shutil.copyfile(src,dst)\n",
        " \n",
        "\n",
        "\n",
        "\n",
        "\n",
        "\n",
        "\n"
      ],
      "execution_count": 0,
      "outputs": []
    },
    {
      "cell_type": "code",
      "metadata": {
        "id": "KvehXpNzVLdz",
        "colab_type": "code",
        "outputId": "074ddd98-60cd-41f9-d101-f0656135899e",
        "colab": {
          "base_uri": "https://localhost:8080/",
          "height": 55
        }
      },
      "source": [
        "import os,sys\n",
        "from PIL import Image\n",
        "from pathlib import Path\n",
        "import urllib.request\n",
        "import shutil\n",
        "import requests\n",
        "import time\n",
        "\n",
        "#print(sys.version)\n",
        "\n",
        "url =\"http://www.ocalendar.com.cn/api/photo/test/\"\n",
        "userId = 'eyJpdiI6InNIR2ZEZUNtMjR3V292bjlBNWJoeFE9PSIsInZhbHVlIjoiUlwvUk1wcnFkUEpYNktuVXY3dnRadzNNTk0yNzhmOVcrWDNXQUtFVXY5dE1BR0MrSWVuQjRlUlQ1aXBja3VtYWwiLCJtYWMiOiJmZjYzNWY1ZWY3OTU5NTljNWQ2ZmIxNDcxOGZkYzI0N2U0ZDUyZWYwNGQwYzQ3YTlhNzVmOWUyM2I5M2MwN2Y5In0'\n",
        "PARAMS = {\n",
        "    'userId': userId,\n",
        "} \n",
        "response = requests.get(url=url, params = PARAMS)\n",
        "data = response.json()\n",
        "flora1 = data[0:28]\n",
        "#flora2 =data[5:10]\n",
        "print(flora1)\n",
        "#print(flora2)\n"
      ],
      "execution_count": 0,
      "outputs": [
        {
          "output_type": "stream",
          "text": [
            "[{'floraName': '流苏贝母兰'}, {'floraName': '金线兰'}, {'floraName': '紫纹兜兰'}, {'floraName': '二列叶虾脊兰'}, {'floraName': '牛齿兰'}, {'floraName': '蛤兰'}, {'floraName': '广东隔距兰'}, {'floraName': '白绵绒兰'}, {'floraName': '竹叶兰'}, {'floraName': '白花线柱兰'}, {'floraName': '触须阔蕊兰'}, {'floraName': '撕唇阔蕊兰'}, {'floraName': '苞舌兰'}, {'floraName': '斑唇卷瓣兰'}, {'floraName': '橙黄玉凤花'}, {'floraName': '细裂玉凤花'}, {'floraName': '半柱毛兰'}, {'floraName': '多花脆兰'}, {'floraName': '鹅毛玉凤花'}, {'floraName': '尖喙隔距兰'}, {'floraName': '全唇孟兰'}, {'floraName': '坡参'}, {'floraName': '寄树兰'}, {'floraName': '龙头兰'}, {'floraName': '大序隔距兰'}, {'floraName': '深裂沼兰'}, {'floraName': '三褶虾脊兰'}, {'floraName': '多枝拟兰'}]\n"
          ],
          "name": "stdout"
        }
      ]
    },
    {
      "cell_type": "code",
      "metadata": {
        "id": "HBK4mm3nT-V8",
        "colab_type": "code",
        "colab": {}
      },
      "source": [
        "%cd /content/gdrive/My\\ Drive/\n",
        "%cd orchids/橙黄玉凤花\n",
        "!shuf -n 6 -e * | xargs -i cp {} ../../dataSet/test/橙黄玉凤花\n",
        "!shuf -n 6 -e * | xargs -i cp {} ../../dataSet/val/橙黄玉凤花\n",
        "!cp * ../../dataSet/train/橙黄玉凤花\n",
        "%cd ../..\n",
        "!ls -R"
      ],
      "execution_count": 0,
      "outputs": []
    },
    {
      "cell_type": "code",
      "metadata": {
        "id": "QojejhV9aUp4",
        "colab_type": "code",
        "colab": {}
      },
      "source": [
        "%cd /content/gdrive/My\\ Drive/\n",
        "%cd orchids/广东石豆兰\n",
        "!shuf -n 6 -e * | xargs -i cp {} ../../dataSet/test/广东石豆兰\n",
        "!shuf -n 6 -e * | xargs -i cp {} ../../dataSet/val/广东石豆兰\n",
        "!cp * ../../dataSet/train/广东石豆兰\n",
        "%cd ../..\n",
        "!ls -R"
      ],
      "execution_count": 0,
      "outputs": []
    },
    {
      "cell_type": "code",
      "metadata": {
        "id": "JrP9pk_kPRqu",
        "colab_type": "code",
        "colab": {}
      },
      "source": [
        "\n",
        "%cd /content/gdrive/My\\ Drive/\n",
        "%cd orchids/建兰\n",
        "!shuf -n 6 -e * | xargs -i cp {} ../../dataSet/test/建兰\n",
        "!shuf -n 6 -e * | xargs -i cp {} ../../dataSet/val/建兰\n",
        "!cp * ../../dataSet/train/建兰\n",
        "%cd ../..\n",
        "!ls -R"
      ],
      "execution_count": 0,
      "outputs": []
    },
    {
      "cell_type": "code",
      "metadata": {
        "id": "Q3QCxIs3bOEj",
        "colab_type": "code",
        "outputId": "e9cac70b-a775-47f5-b7e7-16f80a5b99bb",
        "colab": {
          "base_uri": "https://localhost:8080/",
          "height": 35
        }
      },
      "source": [
        "%cd /content/gdrive/My\\ Drive/dataSet\n",
        "!rm -r *\n",
        "!ls\n"
      ],
      "execution_count": 0,
      "outputs": [
        {
          "output_type": "stream",
          "text": [
            "/content/gdrive/My Drive/dataSet\n"
          ],
          "name": "stdout"
        }
      ]
    },
    {
      "cell_type": "code",
      "metadata": {
        "id": "YTDq4nKpWip7",
        "colab_type": "code",
        "outputId": "f58ed48f-e628-4c79-813e-ac2c94866fb0",
        "colab": {
          "base_uri": "https://localhost:8080/",
          "height": 53
        }
      },
      "source": [
        "%cd /content/gdrive/My\\ Drive/dataSet\n",
        "!mkdir train\n",
        "!mkdir train/建兰\n",
        "!mkdir train/广东石豆兰\n",
        "!mkdir train/橙黄玉凤花\n",
        "!mkdir test\n",
        "!mkdir test/建兰\n",
        "!mkdir test/广东石豆兰\n",
        "!mkdir test/橙黄玉凤花\n",
        "!mkdir val\n",
        "!mkdir val/建兰\n",
        "!mkdir val/广东石豆兰\n",
        "!mkdir val/橙黄玉凤花\n",
        "!ls\n"
      ],
      "execution_count": 0,
      "outputs": [
        {
          "output_type": "stream",
          "text": [
            "/content/gdrive/My Drive/dataSet\n",
            "test  train  val\n"
          ],
          "name": "stdout"
        }
      ]
    }
  ]
}
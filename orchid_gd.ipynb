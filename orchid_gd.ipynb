{
  "nbformat": 4,
  "nbformat_minor": 0,
  "metadata": {
    "colab": {
      "name": "orchid-gd.ipynb",
      "provenance": [],
      "collapsed_sections": [],
      "include_colab_link": true
    },
    "kernelspec": {
      "name": "python3",
      "display_name": "Python 3"
    }
  },
  "cells": [
    {
      "cell_type": "markdown",
      "metadata": {
        "id": "view-in-github",
        "colab_type": "text"
      },
      "source": [
        "<a href=\"https://colab.research.google.com/github/babelfishz/colab-models/blob/master/orchid_gd.ipynb\" target=\"_parent\"><img src=\"https://colab.research.google.com/assets/colab-badge.svg\" alt=\"Open In Colab\"/></a>"
      ]
    },
    {
      "cell_type": "code",
      "metadata": {
        "id": "wI_44CTJCBgF",
        "colab_type": "code",
        "colab": {}
      },
      "source": [
        "from google.colab import drive\n",
        "drive.mount('/content/gdrive')\n",
        "!ls"
      ],
      "execution_count": 0,
      "outputs": []
    },
    {
      "cell_type": "code",
      "metadata": {
        "id": "nqixy4bFqAq9",
        "colab_type": "code",
        "colab": {}
      },
      "source": [
        "import tensorflow as tf\n",
        "print(tf.__version__)"
      ],
      "execution_count": 0,
      "outputs": []
    },
    {
      "cell_type": "code",
      "metadata": {
        "id": "7q0dvjtApoJS",
        "colab_type": "code",
        "colab": {}
      },
      "source": [
        "import numpy as np\n",
        "import tensorflow as tf\n",
        "import tensorflow.keras\n",
        "from tensorflow.keras.models import Sequential, Model\n",
        "from tensorflow.keras.layers import  Dropout, Input\n",
        "from tensorflow.keras.layers import Dense, Flatten\n",
        "from tensorflow.keras.optimizers import Adam\n",
        "from tensorflow.keras.metrics import categorical_crossentropy\n",
        "from tensorflow.keras.preprocessing.image import ImageDataGenerator\n",
        "import itertools\n",
        "import matplotlib.pyplot as plt\n",
        "%matplotlib inline"
      ],
      "execution_count": 0,
      "outputs": []
    },
    {
      "cell_type": "code",
      "metadata": {
        "id": "-eryVCI3puK3",
        "colab_type": "code",
        "colab": {}
      },
      "source": [
        "train_path = './gdrive/My Drive/dataset/train'\n",
        "valid_path = './gdrive/My Drive/dataset/val'\n",
        "test_path = './gdrive/My Drive/dataset/test'\n",
        "\n",
        "train_batches = ImageDataGenerator().flow_from_directory(train_path,target_size=(224,224),  batch_size=32)\n",
        "valid_batches = ImageDataGenerator().flow_from_directory(valid_path,target_size=(224,224),  batch_size=32)\n",
        "test_batches = ImageDataGenerator().flow_from_directory(test_path, target_size=(224,224),  batch_size=32)"
      ],
      "execution_count": 0,
      "outputs": []
    },
    {
      "cell_type": "code",
      "metadata": {
        "id": "A7r4OuUyaVJS",
        "colab_type": "code",
        "outputId": "f7ef75bb-52dd-4a8e-d8e2-a4864e310203",
        "colab": {
          "base_uri": "https://localhost:8080/",
          "height": 701
        }
      },
      "source": [
        "vgg16_model = tensorflow.keras.applications.vgg16.VGG16(weights='imagenet', include_top=False, input_tensor=Input(shape=(224,224,3)))\n",
        "for layer in vgg16_model.layers[:-4]:\n",
        "    layer.trainable = False\n",
        "    \n",
        "# Create the model\n",
        "model = Sequential()\n",
        " \n",
        "# Add the vgg convolutional base model\n",
        "model.add(vgg16_model)\n",
        " \n",
        "# Add new layers\n",
        "model.add(Flatten())\n",
        "model.add(Dense(1024, activation='relu'))\n",
        "model.add(Dropout(0.5))\n",
        "model.add(Dense(80, activation='softmax'))\n",
        " \n",
        "# Show a summary of the model. Check the number of trainable parameters\n",
        "model.summary()\n",
        "\n",
        "model.compile(loss='categorical_crossentropy',\n",
        "              optimizer=tensorflow.keras.optimizers.RMSprop(lr=1e-4),\n",
        "              metrics=['acc'])\n",
        "\n",
        "history = model.fit(train_batches, \n",
        "            epochs=10, \n",
        "            validation_data=valid_batches, \n",
        "            steps_per_epoch=train_batches.samples/train_batches.batch_size,\n",
        "            validation_steps=valid_batches.samples/valid_batches.batch_size,\n",
        "            verbose=1)"
      ],
      "execution_count": 7,
      "outputs": [
        {
          "output_type": "stream",
          "text": [
            "Model: \"sequential_2\"\n",
            "_________________________________________________________________\n",
            "Layer (type)                 Output Shape              Param #   \n",
            "=================================================================\n",
            "vgg16 (Model)                (None, 7, 7, 512)         14714688  \n",
            "_________________________________________________________________\n",
            "flatten_2 (Flatten)          (None, 25088)             0         \n",
            "_________________________________________________________________\n",
            "dense_4 (Dense)              (None, 1024)              25691136  \n",
            "_________________________________________________________________\n",
            "dropout_2 (Dropout)          (None, 1024)              0         \n",
            "_________________________________________________________________\n",
            "dense_5 (Dense)              (None, 80)                82000     \n",
            "=================================================================\n",
            "Total params: 40,487,824\n",
            "Trainable params: 32,852,560\n",
            "Non-trainable params: 7,635,264\n",
            "_________________________________________________________________\n",
            "Epoch 1/10\n",
            "133/132 [==============================] - 2125s 16s/step - loss: 4.5560 - acc: 0.0513 - val_loss: 4.1451 - val_acc: 0.0779\n",
            "Epoch 2/10\n",
            "133/132 [==============================] - 1958s 15s/step - loss: 3.8867 - acc: 0.1072 - val_loss: 3.8095 - val_acc: 0.1284\n",
            "Epoch 3/10\n",
            "133/132 [==============================] - 1963s 15s/step - loss: 3.4775 - acc: 0.1889 - val_loss: 3.2987 - val_acc: 0.2337\n",
            "Epoch 4/10\n",
            "133/132 [==============================] - 1973s 15s/step - loss: 3.0082 - acc: 0.2664 - val_loss: 2.8972 - val_acc: 0.3326\n",
            "Epoch 5/10\n",
            "133/132 [==============================] - 1968s 15s/step - loss: 2.4735 - acc: 0.3825 - val_loss: 2.2714 - val_acc: 0.4800\n",
            "Epoch 6/10\n",
            "133/132 [==============================] - 1979s 15s/step - loss: 1.9465 - acc: 0.4960 - val_loss: 1.5554 - val_acc: 0.6147\n",
            "Epoch 7/10\n",
            "133/132 [==============================] - 1976s 15s/step - loss: 1.5183 - acc: 0.5970 - val_loss: 1.3685 - val_acc: 0.6989\n",
            "Epoch 8/10\n",
            "133/132 [==============================] - 1961s 15s/step - loss: 1.1303 - acc: 0.6896 - val_loss: 0.8611 - val_acc: 0.8021\n",
            "Epoch 9/10\n",
            "133/132 [==============================] - 1967s 15s/step - loss: 0.8640 - acc: 0.7579 - val_loss: 0.5837 - val_acc: 0.8484\n",
            "Epoch 10/10\n",
            "133/132 [==============================] - 1962s 15s/step - loss: 0.7083 - acc: 0.7963 - val_loss: 0.4122 - val_acc: 0.8968\n"
          ],
          "name": "stdout"
        }
      ]
    },
    {
      "cell_type": "code",
      "metadata": {
        "colab_type": "code",
        "id": "wgjsVyVkXds7",
        "colab": {}
      },
      "source": [
        "test_imgs, test_labels = next(test_batches)\n",
        "\n",
        "predictions = model.predict(test_imgs)\n",
        "\n",
        "print(predictions)"
      ],
      "execution_count": 0,
      "outputs": []
    },
    {
      "cell_type": "code",
      "metadata": {
        "id": "BiOWWA6MKh1G",
        "colab_type": "code",
        "colab": {}
      },
      "source": [
        "tf.keras.models.save_model(model, \"./gdrive/My Drive/_models/flower/1\")\n",
        "print(\"models written\")"
      ],
      "execution_count": 0,
      "outputs": []
    },
    {
      "cell_type": "code",
      "metadata": {
        "id": "W_Kn11cCsBY6",
        "colab_type": "code",
        "colab": {}
      },
      "source": [
        "saved_model = tf.keras.models.load_model(\"./gdrive/My Drive/_models/flower/1\")\n",
        "input_shape = (None, 224, 224, 3)\n",
        "saved_model.build(input_shape)\n",
        "saved_model.summary()\n",
        "\n",
        "#imported = tf.saved_model.load(\"/content/gdrive/My Drive/Models/flower/1\")\n",
        "\n"
      ],
      "execution_count": 0,
      "outputs": []
    },
    {
      "cell_type": "code",
      "metadata": {
        "id": "H2jvfbm6qs8H",
        "colab_type": "code",
        "colab": {}
      },
      "source": [
        "test_imgs, test_labels = next(test_batches)\n",
        "\n",
        "predictions = saved_model.predict(test_imgs)\n",
        "\n",
        "print(predictions)"
      ],
      "execution_count": 0,
      "outputs": []
    },
    {
      "cell_type": "code",
      "metadata": {
        "id": "fZNour1ljjyO",
        "colab_type": "code",
        "colab": {}
      },
      "source": [
        "def preprocess_b64_image(image_bytes, h=224, w=224):\n",
        "    image = tf.io.decode_base64(image_bytes[0])\n",
        "    image = tf.image.decode_jpeg(image, channels=3)\n",
        "    image = tf.image.resize(image, size=[h, w])\n",
        "    #image = (image - 127.5) / 127.5\n",
        "    image = tf.expand_dims(image, axis=0)\n",
        "    return image\n",
        "\n",
        "#image_bytes = Input(shape = (1,),dtype=\"string\")\n",
        "image_bytes = tf.keras.Input(shape=[], batch_size=1, name='b64_image_bytes', dtype=tf.string)\n",
        "preprocessed_image = preprocess_b64_image(image_bytes)"
      ],
      "execution_count": 0,
      "outputs": []
    },
    {
      "cell_type": "code",
      "metadata": {
        "id": "T8pLxK6OneE9",
        "colab_type": "code",
        "colab": {}
      },
      "source": [
        "predictions = saved_model(preprocessed_image)\n",
        "new_model = tf.keras.Model(image_bytes, predictions)\n",
        "new_model.summary()\n",
        "print('Model Input Shape:', new_model.input_shape)"
      ],
      "execution_count": 0,
      "outputs": []
    },
    {
      "cell_type": "code",
      "metadata": {
        "id": "Qzxopp7mL-Oq",
        "colab_type": "code",
        "colab": {}
      },
      "source": [
        "tf.keras.models.save_model(new_model, \"./gdrive/My Drive/_models/flower/2\")"
      ],
      "execution_count": 0,
      "outputs": []
    },
    {
      "cell_type": "code",
      "metadata": {
        "id": "WxkBOVq361FF",
        "colab_type": "code",
        "colab": {}
      },
      "source": [
        "new_saved_model = tf.keras.models.load_model(\"./gdrive/My Drive/_models/flower/2\")\n",
        "new_saved_model.summary()"
      ],
      "execution_count": 0,
      "outputs": []
    },
    {
      "cell_type": "code",
      "metadata": {
        "id": "SVA9_THbwjDl",
        "colab_type": "code",
        "colab": {}
      },
      "source": [
        "!wget -q -O \"1.jpg\" \"https://www.ocalendar.com.cn//storage/uploads/images/1561213187_Ik3R95v6OL.jpg\"\n",
        "!wget -q -O \"2.jpg\" \"https://www.ocalendar.com.cn//storage/uploads/images/1567077582_sQ9kqOtQUc.jpg\"\n",
        "!wget -q -O \"3.jpg\" \"https://www.ocalendar.com.cn//storage/uploads/images/1563020145_RGu8AStYOc.jpg\""
      ],
      "execution_count": 0,
      "outputs": []
    },
    {
      "cell_type": "code",
      "metadata": {
        "id": "cJtzAFG_5AbL",
        "colab_type": "code",
        "colab": {}
      },
      "source": [
        "!wget -q -O \"circle.jpg\" \"https://www.ocalendar.com.cn//storage/uploads/images/1587005150_S3twUhlxgd.jpg\""
      ],
      "execution_count": 0,
      "outputs": []
    },
    {
      "cell_type": "code",
      "metadata": {
        "id": "BudCDVhr6j9m",
        "colab_type": "code",
        "colab": {}
      },
      "source": [
        "!saved_model_cli show --dir ./gdrive/My\\ Drive/_models/flower/2 --all"
      ],
      "execution_count": 0,
      "outputs": []
    },
    {
      "cell_type": "code",
      "metadata": {
        "id": "Ja4aKPVBcOoa",
        "colab_type": "code",
        "colab": {}
      },
      "source": [
        "import requests\n",
        "import base64\n",
        "import json\n",
        "import tensorflow as tf\n",
        "\n",
        "url = \"http://47.88.158.181:8501/v1/models/flower:predict\"\n",
        "\n",
        "with open('circle.jpg', \"rb\") as img_file:\n",
        "  encoded_string = base64.urlsafe_b64encode(img_file.read()).decode(\"utf-8\")\n",
        "data = json.dumps({\"instances\": [{\"b64_image_bytes\": encoded_string}]})\n",
        "\n",
        "print(data)\n",
        "\n",
        "r = requests.post(url = url, data = data)\n",
        "r.json()\n"
      ],
      "execution_count": 0,
      "outputs": []
    },
    {
      "cell_type": "code",
      "metadata": {
        "id": "YqQoTYhSF9As",
        "colab_type": "code",
        "colab": {}
      },
      "source": [
        "# plots images with labels within jupyter notebook\n",
        "def plots(ims, figsize=(24,12), rows=6, interp=False, titles=None):\n",
        "    if type(ims[0]) is np.ndarray:\n",
        "        ims = np.array(ims).astype(np.uint8)\n",
        "        if (ims.shape[-1] != 3):\n",
        "            ims = ims.transpose((0,2,3,1))\n",
        "    f = plt.figure(figsize=figsize)\n",
        "    cols = len(ims)//rows if len(ims) % 2 == 0 else len(ims)//rows + 1\n",
        "    for i in range(len(ims)):\n",
        "        sp = f.add_subplot(rows, cols, i+1)\n",
        "        sp.axis('Off')\n",
        "        if titles is not None:\n",
        "            sp.set_title(titles[i], fontsize=32)\n",
        "        plt.imshow(ims[i], interpolation=None if interp else 'none')\n",
        "\n",
        "#imgs, labels = next(train_batches)\n",
        "#plots(imgs, titles=labels)"
      ],
      "execution_count": 0,
      "outputs": []
    }
  ]
}
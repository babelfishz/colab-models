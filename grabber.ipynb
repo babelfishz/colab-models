{
  "nbformat": 4,
  "nbformat_minor": 0,
  "metadata": {
    "colab": {
      "name": "grabber.ipynb",
      "provenance": [],
      "collapsed_sections": [],
      "include_colab_link": true
    },
    "kernelspec": {
      "name": "python3",
      "display_name": "Python 3"
    }
  },
  "cells": [
    {
      "cell_type": "markdown",
      "metadata": {
        "id": "view-in-github",
        "colab_type": "text"
      },
      "source": [
        "<a href=\"https://colab.research.google.com/github/babelfishz/colab-models/blob/master/grabber.ipynb\" target=\"_parent\"><img src=\"https://colab.research.google.com/assets/colab-badge.svg\" alt=\"Open In Colab\"/></a>"
      ]
    },
    {
      "cell_type": "code",
      "metadata": {
        "id": "FaumF_YlOzuZ",
        "colab_type": "code",
        "colab": {}
      },
      "source": [
        "from google.colab import drive\n",
        "drive.mount('/content/gdrive')"
      ],
      "execution_count": 0,
      "outputs": []
    },
    {
      "cell_type": "code",
      "metadata": {
        "id": "4J8gaRLlJWwB",
        "colab_type": "code",
        "colab": {}
      },
      "source": [
        "#import os,sys\n",
        "#from PIL import Image\n",
        "\n",
        "#import urllib.request\n",
        "\n",
        "from pathlib import Path\n",
        "import shutil\n",
        "import requests\n",
        "import time\n",
        "\n",
        "%pylab inline\n",
        "import matplotlib.pyplot as plt\n",
        "import matplotlib.image as mpimg\n",
        "\n",
        "def get_floras():\n",
        "  url =\"http://www.ocalendar.com.cn/api/photo/test/\"\n",
        "  userId = 'eyJpdiI6InNIR2ZEZUNtMjR3V292bjlBNWJoeFE9PSIsInZhbHVlIjoiUlwvUk1wcnFkUEpYNktuVXY3dnRadzNNTk0yNzhmOVcrWDNXQUtFVXY5dE1BR0MrSWVuQjRlUlQ1aXBja3VtYWwiLCJtYWMiOiJmZjYzNWY1ZWY3OTU5NTljNWQ2ZmIxNDcxOGZkYzI0N2U0ZDUyZWYwNGQwYzQ3YTlhNzVmOWUyM2I5M2MwN2Y5In0'\n",
        "  \n",
        "  PARAMS = {\n",
        "    'userId': userId,\n",
        "  } \n",
        "  response = requests.get(url=url, params = PARAMS)\n",
        "  return response.json()\n",
        "\n",
        "def read_from_file():\n",
        "  index = 0\n",
        "  try:\n",
        "    with open('/content/gdrive/My Drive/progress/grabber.txt', \"r\") as f:\n",
        "      for line in f:\n",
        "        key, value = line.strip().split()\n",
        "        index = int(value)\n",
        "  except:\n",
        "    index = 0\n",
        "  return index\n",
        "\n",
        "def write_to_file(index):\n",
        "    with open('/content/gdrive/My Drive/progress/grabber.txt', \"w\") as f:\n",
        "      string = 'index' + \" \" + str(index)\n",
        "      f.write(string + \"\\n\")\n",
        "\n",
        "def grab_files(name):\n",
        "  \n",
        "  url =\"http://www.ocalendar.com.cn/api/photo/triple/name/\" + name\n",
        "  userId = 'eyJpdiI6InNIR2ZEZUNtMjR3V292bjlBNWJoeFE9PSIsInZhbHVlIjoiUlwvUk1wcnFkUEpYNktuVXY3dnRadzNNTk0yNzhmOVcrWDNXQUtFVXY5dE1BR0MrSWVuQjRlUlQ1aXBja3VtYWwiLCJtYWMiOiJmZjYzNWY1ZWY3OTU5NTljNWQ2ZmIxNDcxOGZkYzI0N2U0ZDUyZWYwNGQwYzQ3YTlhNzVmOWUyM2I5M2MwN2Y5In0'\n",
        "  \n",
        "\n",
        "  PARAMS = {'userId': userId}\n",
        "  res = requests.get(url=url, params = PARAMS)\n",
        "  resdata = res.json()\n",
        "  floras = resdata['floras']['data']\n",
        "  print(len(floras),\" files to grab\")\n",
        "\n",
        "  files =[]\n",
        "  \n",
        "  \n",
        "  for floraData in floras:\n",
        "    filePath = floraData['filePath']\n",
        "    fileName = floraData['fileName']\n",
        "    #tempfile = \"temp\" + fileName\n",
        "    \n",
        "    imageUrl =  'http://www.ocalendar.com.cn/'+ filePath + fileName\n",
        "    print(imageUrl)\n",
        "    try:\n",
        "      content = requests.get(imageUrl).content\n",
        "      with open(fileName, 'wb') as f:\n",
        "        f.write(content)\n",
        "        files.append(fileName)\n",
        "    except:\n",
        "      print(\"something wrong\")\n",
        "      continue\n",
        "\n",
        "  return files\n",
        "\n",
        "def copy_files(files, dst):\n",
        "  Path(dst).mkdir(parents=True, exist_ok=True)\n",
        "  for file in files:\n",
        "    try:\n",
        "      shutil.copyfile(file, dst+file)\n",
        "      #print(file, dst+file) \n",
        "    except:\n",
        "      print(dst + file+ \"copy failed\")\n",
        "      continue\n",
        "\n",
        "# plots images with labels within jupyter notebook\n",
        "def plots(files, figsize=(24,12), cols=10, interp=False, titles=None):\n",
        "    f = plt.figure(figsize=figsize)\n",
        "    #cols = len(files)//rows if len(files) % 2 == 0 else len(files)//rows + 1\n",
        "    rows = len(files)//cols + 1\n",
        "    for i in range(len(files)):\n",
        "        sp = f.add_subplot(rows, cols, i+1)\n",
        "        sp.axis('Off')\n",
        "        img=mpimg.imread(files[i])\n",
        "        plt.imshow(img)\n",
        "        plt.show\n"
      ],
      "execution_count": 0,
      "outputs": []
    },
    {
      "cell_type": "code",
      "metadata": {
        "id": "9Ys2gB8nd_yJ",
        "colab_type": "code",
        "colab": {}
      },
      "source": [
        "def main():\n",
        "\n",
        "  floras = get_floras()\n",
        "  \n",
        "  start = read_from_file() \n",
        "  \n",
        "  for index, flora in enumerate(floras[start:]):\n",
        "    name = flora['floraName']\n",
        "    print(index+start+1, name)\n",
        "    \n",
        "    files = grab_files(name)\n",
        "    \n",
        "    dst ='/content/gdrive/My Drive/test/' + name + '/'\n",
        "    Path(dst).mkdir(parents=True, exist_ok=True)\n",
        "    copy_files(files, dst)\n",
        "\n",
        "    write_to_file(start + index + 1)\n",
        "\n",
        "    #plots(files)\n",
        "\n",
        "if __name__ == '__main__':\n",
        "    main()"
      ],
      "execution_count": 0,
      "outputs": []
    },
    {
      "cell_type": "code",
      "metadata": {
        "id": "7CFplSGOMRd8",
        "colab_type": "code",
        "colab": {}
      },
      "source": [
        "\n",
        "files = grab_files(\"齿瓣石豆兰\")\n"
      ],
      "execution_count": 0,
      "outputs": []
    },
    {
      "cell_type": "code",
      "metadata": {
        "id": "iGvxPtSJRcOZ",
        "colab_type": "code",
        "colab": {}
      },
      "source": [
        "plots(files)"
      ],
      "execution_count": 0,
      "outputs": []
    }
  ]
}
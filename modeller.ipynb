{
  "nbformat": 4,
  "nbformat_minor": 0,
  "metadata": {
    "colab": {
      "name": "modeller.ipynb",
      "provenance": [],
      "collapsed_sections": [],
      "include_colab_link": true
    },
    "kernelspec": {
      "name": "python3",
      "display_name": "Python 3"
    }
  },
  "cells": [
    {
      "cell_type": "markdown",
      "metadata": {
        "id": "view-in-github",
        "colab_type": "text"
      },
      "source": [
        "<a href=\"https://colab.research.google.com/github/babelfishz/colab-models/blob/master/modeller.ipynb\" target=\"_parent\"><img src=\"https://colab.research.google.com/assets/colab-badge.svg\" alt=\"Open In Colab\"/></a>"
      ]
    },
    {
      "cell_type": "markdown",
      "metadata": {
        "id": "JUlo2xIrKmMm",
        "colab_type": "text"
      },
      "source": [
        "Connect to google drive"
      ]
    },
    {
      "cell_type": "code",
      "metadata": {
        "id": "wI_44CTJCBgF",
        "colab_type": "code",
        "outputId": "9f88217e-9ec7-4cb1-d679-53814c514423",
        "colab": {
          "base_uri": "https://localhost:8080/",
          "height": 163
        }
      },
      "source": [
        "from google.colab import drive\n",
        "drive.mount('/content/gdrive')\n",
        "!ls '/content/gdrive/My Drive/'"
      ],
      "execution_count": 1,
      "outputs": [
        {
          "output_type": "stream",
          "text": [
            "Go to this URL in a browser: https://accounts.google.com/o/oauth2/auth?client_id=947318989803-6bn6qk8qdgf4n4g3pfee6491hc0brc4i.apps.googleusercontent.com&redirect_uri=urn%3aietf%3awg%3aoauth%3a2.0%3aoob&response_type=code&scope=email%20https%3a%2f%2fwww.googleapis.com%2fauth%2fdocs.test%20https%3a%2f%2fwww.googleapis.com%2fauth%2fdrive%20https%3a%2f%2fwww.googleapis.com%2fauth%2fdrive.photos.readonly%20https%3a%2f%2fwww.googleapis.com%2fauth%2fpeopleapi.readonly\n",
            "\n",
            "Enter your authorization code:\n",
            "··········\n",
            "Mounted at /content/gdrive\n",
            " calendar\t    dataset   ppbc\t test\n",
            "'Colab Notebooks'   _models   progress\t 我的足迹\n"
          ],
          "name": "stdout"
        }
      ]
    },
    {
      "cell_type": "code",
      "metadata": {
        "id": "k9-SEw-NFzaX",
        "colab_type": "code",
        "colab": {}
      },
      "source": [
        "import numpy as np\n",
        "import tensorflow as tf\n",
        "import tensorflow.keras\n",
        "from tensorflow.keras import layers\n",
        "from tensorflow.keras.models import Sequential, Model\n",
        "from tensorflow.keras.layers import  Dropout, Input\n",
        "from tensorflow.keras.layers import Dense, Flatten\n",
        "from tensorflow.keras.optimizers import Adam\n",
        "from tensorflow.keras.metrics import categorical_crossentropy\n",
        "from tensorflow.keras.preprocessing.image import ImageDataGenerator\n",
        "from tensorflow.keras.applications.inception_v3 import InceptionV3\n",
        "import itertools\n",
        "from tensorflow.keras.layers import GlobalAveragePooling2D\n",
        "\n",
        "%matplotlib inline\n",
        "#%pylab inline\n",
        "import matplotlib.pyplot as plt\n",
        "import matplotlib.image as mpimg"
      ],
      "execution_count": 0,
      "outputs": []
    },
    {
      "cell_type": "code",
      "metadata": {
        "id": "257-CxDzj0zE",
        "colab_type": "code",
        "colab": {}
      },
      "source": [
        "def train_vgg16_model(dataset, save_path):\n",
        "  train_path = dataset + 'train'\n",
        "  valid_path = dataset + 'val'\n",
        "  #test_path = dataset+ 'test'\n",
        "\n",
        "  #trying to add some augumentation\n",
        "  train_batches = ImageDataGenerator(\n",
        "    rescale=1./255,\n",
        "    rotation_range=40,\n",
        "    width_shift_range=0.4,\n",
        "    height_shift_range=0.4,\n",
        "    shear_range=0.2,\n",
        "    zoom_range=0.3,\n",
        "    #horizontal_flip=True\n",
        "  ).flow_from_directory(train_path,target_size=(224,224),  batch_size=32)\n",
        "\n",
        "  # the validation data should not be augmented!\n",
        "  valid_batches = ImageDataGenerator(rescale=1./255).flow_from_directory(valid_path,target_size=(224,224),  batch_size=32)\n",
        "\n",
        "  #test_batches = ImageDataGenerator().flow_from_directory(test_path, target_size=(224,224),  batch_size=32)\n",
        "\n",
        "  print(valid_batches.class_indices.keys())\n",
        "\n",
        "  vgg16_model = tensorflow.keras.applications.vgg16.VGG16(weights='imagenet', include_top=False, input_tensor=Input(shape=(224,224,3)))\n",
        "  for layer in vgg16_model.layers[:-4]:\n",
        "    layer.trainable = False\n",
        "    \n",
        "  # Create the model\n",
        "  model = Sequential()\n",
        " \n",
        "  # Add the vgg convolutional base model\n",
        "  model.add(vgg16_model)\n",
        " \n",
        "  # Add new layers\n",
        "  model.add(Flatten())\n",
        "  model.add(Dense(1024, activation='relu'))\n",
        "  model.add(Dropout(0.5))\n",
        "  model.add(Dense(80, activation='softmax'))\n",
        " \n",
        "  # Show a summary of the model. Check the number of trainable parameters\n",
        "  model.summary()\n",
        "\n",
        "  model.compile(loss='categorical_crossentropy',\n",
        "              optimizer=tensorflow.keras.optimizers.RMSprop(lr=1e-4),\n",
        "              metrics=['acc'])\n",
        "\n",
        "  history = model.fit(train_batches, \n",
        "            epochs=10, \n",
        "            validation_data=valid_batches, \n",
        "            steps_per_epoch=train_batches.samples/train_batches.batch_size,\n",
        "            validation_steps=valid_batches.samples/valid_batches.batch_size,\n",
        "            verbose=1)\n",
        "\n",
        "  tf.keras.models.save_model(model, save_path)\n",
        "  print(\"models written to \", save_path)\n",
        "\n",
        "  #test_imgs, test_labels = next(test_batches)\n",
        "  #predictions = model.predict(test_imgs)\n",
        "  #print(predictions)"
      ],
      "execution_count": 0,
      "outputs": []
    },
    {
      "cell_type": "code",
      "metadata": {
        "id": "zFyHnDxn4yAl",
        "colab_type": "code",
        "colab": {}
      },
      "source": [
        "# plots images with labels within jupyter notebook\n",
        "def plots(ims, figsize=(24,12), rows=4, interp=False, titles=None):\n",
        "    if type(ims[0]) is np.ndarray:\n",
        "        ims = np.array(ims).astype(np.uint8)\n",
        "        if (ims.shape[-1] != 3):\n",
        "            ims = ims.transpose((0,2,3,1))\n",
        "    f = plt.figure(figsize=figsize)\n",
        "    cols = len(ims)//rows if len(ims) % 2 == 0 else len(ims)//rows + 1\n",
        "    for i in range(len(ims)):\n",
        "        sp = f.add_subplot(rows, cols, i+1)\n",
        "        sp.axis('Off')\n",
        "        if titles is not None:\n",
        "            sp.set_title(titles[i], fontsize=32)\n",
        "        plt.imshow(ims[i], interpolation=None if interp else 'none')\n",
        "\n",
        "imgs, labels = next(train_generator)\n",
        "plots(imgs, titles=labels)"
      ],
      "execution_count": 0,
      "outputs": []
    },
    {
      "cell_type": "code",
      "metadata": {
        "id": "YMcJHx3CdRoc",
        "colab_type": "code",
        "colab": {}
      },
      "source": [
        "# plots train history with labels within jupyter notebook\n",
        "import matplotlib.pyplot as plt\n",
        "\n",
        "def plot_history(history):\n",
        "  acc = history.history['acc']\n",
        "  val_acc = history.history['val_acc']\n",
        "  loss = history.history['loss']\n",
        "  val_loss = history.history['val_loss']\n",
        "\n",
        "  epochs = range(len(acc))\n",
        "\n",
        "  plt.plot(epochs, acc, 'bo', label='Training accuracy')\n",
        "  plt.plot(epochs, val_acc, 'b', label='Validation accuracy')\n",
        "  plt.title('Training and validation accuracy')\n",
        "\n",
        "  plt.figure()\n",
        "\n",
        "  plt.plot(epochs, loss, 'bo', label='Training Loss')\n",
        "  plt.plot(epochs, val_loss, 'b', label='Validation Loss')\n",
        "  plt.title('Training and validation loss')\n",
        "  plt.legend()\n",
        "\n",
        "  plt.show()"
      ],
      "execution_count": 0,
      "outputs": []
    },
    {
      "cell_type": "code",
      "metadata": {
        "id": "_JDeOKsxHcyG",
        "colab_type": "code",
        "colab": {}
      },
      "source": [
        "#preprocess base64 image\n",
        "from tensorflow.keras.applications.inception_v3 import preprocess_input\n",
        "\n",
        "def preprocess_b64_image(image_bytes, height, width):\n",
        "    image = tf.io.decode_base64(image_bytes[0])\n",
        "    image = tf.image.decode_jpeg(image, channels=3)\n",
        "    image = tf.image.resize(image, size=[height, width])\n",
        "    image = tf.cast(image, tf.float32)\n",
        "    image = preprocess_input(image)\n",
        "    #image = (image - 127.5) / 127.5\n",
        "    image = tf.expand_dims(image, axis=0)\n",
        "    return image"
      ],
      "execution_count": 0,
      "outputs": []
    },
    {
      "cell_type": "code",
      "metadata": {
        "id": "3Hdmyti25Fge",
        "colab_type": "code",
        "outputId": "1737d1a4-0ee7-4e5f-fb8e-2b47c8bce069",
        "colab": {
          "base_uri": "https://localhost:8080/",
          "height": 109
        }
      },
      "source": [
        "#load dataset for train\n",
        "from tensorflow.keras.applications.inception_v3 import preprocess_input\n",
        "\n",
        "dataset = '/content/gdrive/My Drive/dataset/'\n",
        "\n",
        "train_dir = dataset + 'train'\n",
        "validation_dir = dataset + 'val'\n",
        "test_dir = dataset+ 'test'\n",
        "\n",
        "\n",
        "target_size =(299 , 299)\n",
        "#classes = ['广东石豆兰','橙黄玉凤花','建兰']\n",
        "\n",
        "train_datagen = ImageDataGenerator(\n",
        "                    preprocessing_function = preprocess_input\n",
        "#                    rescale = 1./255.,\n",
        "#                    rotation_range = 40,\n",
        "#                    width_shift_range = 0.2,\n",
        "#                    height_shift_range = 0.2,\n",
        "#                    shear_range = 0.2,\n",
        "#                    zoom_range = 0.2,\n",
        "#                    horizontal_flip = True\n",
        "                  )\n",
        "test_datagen = ImageDataGenerator( \n",
        "#                    rescale = 1.0/255. \n",
        "                    preprocessing_function = preprocess_input\n",
        "                  )  \n",
        "\n",
        "train_generator = train_datagen.flow_from_directory(train_dir, target_size = target_size)\n",
        "validation_generator = test_datagen.flow_from_directory(validation_dir, target_size = target_size)\n",
        "test_generator = test_datagen.flow_from_directory(test_dir, target_size=target_size) \n",
        "nclass = len(train_generator.class_indices)\n",
        "\n",
        "print(validation_generator.class_indices.keys())"
      ],
      "execution_count": 0,
      "outputs": [
        {
          "output_type": "stream",
          "text": [
            "Found 3525 images belonging to 80 classes.\n",
            "Found 1462 images belonging to 80 classes.\n",
            "Found 12 images belonging to 80 classes.\n",
            "dict_keys(['三蕊兰', '三褶虾脊兰', '二列叶虾脊兰', '二尾兰', '二色卷瓣兰', '云南叉柱兰', '低地羊耳蒜', '全唇盂兰', '北插天天麻', '半柱毛兰', '南方带唇兰', '叉柱兰', '地宝兰', '坡参', '墨兰', '多叶斑叶兰', '多枝拟兰', '多花脆兰', '大序隔距兰', '寄树兰', '密花石豆兰', '寒兰', '小片菱兰', '小舌唇兰', '尖喙隔距兰', '广东石豆兰', '广东隔距兰', '建兰', '扇唇羊耳蒜', '报春贝母兰', '插天山羊耳蒜', '撕唇阔蕊兰', '斑唇卷瓣兰', '无叶美冠兰', '橙黄玉凤花', '歌绿斑叶兰', '永泰卷瓣兰', '流苏贝母兰', '深裂沼兰', '牛齿兰', '玫瑰宿苞兰', '瘤唇卷瓣兰', '白绵绒兰', '白花线柱兰', '短穗竹茎兰', '短裂阔蕊兰', '石仙桃', '竹叶兰', '竹茎兰', '紫纹兜兰', '紫花羊耳蒜', '线柱兰', '细叶石仙桃', '细裂玉凤花', '绶草', '绿花带唇兰', '绿花斑叶兰', '美冠兰', '腐生齿唇兰', '芳香石豆兰', '苞舌兰', '蛇舌兰', '蛤兰', '血叶兰', '见血青', '触须阔蕊兰', '金线兰', '钳唇兰', '镰翅羊耳蒜', '长茎羊耳蒜', '阔叶沼兰', '香港带唇兰', '香港绶草', '高斑叶兰', '鹅毛玉凤花', '鹤顶兰', '黄兰', '黄唇线柱兰', '齿瓣石豆兰', '龙头兰'])\n"
          ],
          "name": "stdout"
        }
      ]
    },
    {
      "cell_type": "code",
      "metadata": {
        "colab_type": "code",
        "id": "gyHmrDRoKhQz",
        "outputId": "4ae247d7-6753-4c64-ad8f-09fc3feef75f",
        "colab": {
          "base_uri": "https://localhost:8080/",
          "height": 941
        }
      },
      "source": [
        "#training a model and save it\n",
        "from tensorflow.keras.optimizers import RMSprop\n",
        "\n",
        "# 构建不带分类器的预训练模型\n",
        "base_model = InceptionV3(weights='imagenet', include_top=False)\n",
        "for layer in base_model.layers:\n",
        "  layer.trainable = False\n",
        "  \n",
        "x = base_model.output\n",
        "x = GlobalAveragePooling2D()(x)\n",
        "x = Dense(1024, activation='relu')(x)\n",
        "x = layers.Dropout(0.5)(x)  \n",
        "predictions = Dense(nclass, activation='softmax')(x)\n",
        "\n",
        "# 构建我们需要训练的完整模型\n",
        "model = Model(inputs=base_model.input, outputs=predictions)\n",
        "\n",
        "model.compile(loss='categorical_crossentropy',\n",
        "              optimizer=tensorflow.keras.optimizers.RMSprop(lr=1e-4),\n",
        "              metrics=['acc'])\n",
        "  \n",
        "# Show a summary of the model. Check the number of trainable parameters\n",
        "#model.summary()\n",
        "\n",
        "history = model.fit(train_generator, \n",
        "            steps_per_epoch=train_generator.samples/train_generator.batch_size,\n",
        "            epochs=10, \n",
        "            validation_data=validation_generator, \n",
        "            validation_steps=validation_generator.samples/validation_generator.batch_size,\n",
        "            verbose=1)\n",
        "\n",
        "#tf.keras.models.save_model(model, save_path)\n",
        "#print(\"models written to \", save_path)\n",
        "\n",
        "plot_history(history)\n",
        "\n",
        "\n",
        "save_path = '/content/gdrive/My Drive/_models/flower/1'\n",
        "tf.keras.models.save_model(model, save_path)\n",
        "print(\"models written to \", save_path)"
      ],
      "execution_count": 0,
      "outputs": [
        {
          "output_type": "stream",
          "text": [
            "Epoch 1/10\n",
            "111/110 [==============================] - 2041s 18s/step - loss: 3.9873 - acc: 0.1155 - val_loss: 3.3752 - val_acc: 0.2804\n",
            "Epoch 2/10\n",
            "111/110 [==============================] - 1113s 10s/step - loss: 3.1361 - acc: 0.2982 - val_loss: 2.6854 - val_acc: 0.4781\n",
            "Epoch 3/10\n",
            "111/110 [==============================] - 1115s 10s/step - loss: 2.5182 - acc: 0.4357 - val_loss: 2.2060 - val_acc: 0.5643\n",
            "Epoch 4/10\n",
            "111/110 [==============================] - 1114s 10s/step - loss: 2.1071 - acc: 0.5183 - val_loss: 1.8732 - val_acc: 0.6211\n",
            "Epoch 5/10\n",
            "111/110 [==============================] - 1127s 10s/step - loss: 1.7619 - acc: 0.5949 - val_loss: 1.6245 - val_acc: 0.6648\n",
            "Epoch 6/10\n",
            "111/110 [==============================] - 1120s 10s/step - loss: 1.5027 - acc: 0.6502 - val_loss: 1.4395 - val_acc: 0.7025\n",
            "Epoch 7/10\n",
            "111/110 [==============================] - 1119s 10s/step - loss: 1.2997 - acc: 0.7044 - val_loss: 1.2961 - val_acc: 0.7182\n",
            "Epoch 8/10\n",
            "111/110 [==============================] - 1118s 10s/step - loss: 1.1400 - acc: 0.7356 - val_loss: 1.1687 - val_acc: 0.7462\n",
            "Epoch 9/10\n",
            "111/110 [==============================] - 1118s 10s/step - loss: 1.0041 - acc: 0.7654 - val_loss: 1.0959 - val_acc: 0.7661\n",
            "Epoch 10/10\n",
            "111/110 [==============================] - 1114s 10s/step - loss: 0.8895 - acc: 0.7991 - val_loss: 1.0023 - val_acc: 0.7804\n"
          ],
          "name": "stdout"
        },
        {
          "output_type": "display_data",
          "data": {
            "image/png": "[encoded data removed]",
            "text/plain": [
              "<Figure size 432x288 with 1 Axes>"
            ]
          },
          "metadata": {
            "tags": [],
            "needs_background": "light"
          }
        },
        {
          "output_type": "display_data",
          "data": {
            "image/png": "[encoded data removed]",
            "text/plain": [
              "<Figure size 432x288 with 1 Axes>"
            ]
          },
          "metadata": {
            "tags": [],
            "needs_background": "light"
          }
        },
        {
          "output_type": "stream",
          "text": [
            "INFO:tensorflow:Assets written to: /content/gdrive/My Drive/_models/flower/1/assets\n",
            "models written to  /content/gdrive/My Drive/_models/flower/1\n"
          ],
          "name": "stdout"
        }
      ]
    },
    {
      "cell_type": "code",
      "metadata": {
        "id": "FtDhB9oZGN2l",
        "colab_type": "code",
        "colab": {}
      },
      "source": [
        "  test_imgs, test_labels = next(test_generator)\n",
        "  plots(test_imgs, titles=test_labels)\n",
        "\n",
        "  predictions = model.predict(test_imgs)\n",
        "  print(predictions)"
      ],
      "execution_count": 0,
      "outputs": []
    },
    {
      "cell_type": "code",
      "metadata": {
        "id": "1H4uo31gfARz",
        "colab_type": "code",
        "colab": {}
      },
      "source": [
        "save_path = '/content/gdrive/My Drive/_models/flower/1'\n",
        "\n",
        "saved_model = tf.keras.models.load_model(save_path)\n",
        "#input_shape = (None, 299, 299, 3)\n",
        "#saved_model.build(input_shape)\n",
        "saved_model.summary()\n",
        "\n",
        "image_bytes = tf.keras.Input(shape=[], batch_size=1, name='b64_image_bytes', dtype=tf.string)\n",
        "preprocessed_image = preprocess_b64_image(image_bytes, 299, 299)\n",
        "predictions = saved_model(preprocessed_image)\n",
        "  \n",
        "new_model = tf.keras.Model(image_bytes, predictions)\n",
        "new_model.summary()\n",
        "  \n",
        "tf.keras.models.save_model(new_model, \"./gdrive/My Drive/_models/flower/2\")"
      ],
      "execution_count": 0,
      "outputs": []
    },
    {
      "cell_type": "markdown",
      "metadata": {
        "id": "eGNdEcd9Neye",
        "colab_type": "text"
      },
      "source": [
        "Check saved models' info"
      ]
    },
    {
      "cell_type": "code",
      "metadata": {
        "id": "XbadYFsboKBO",
        "colab_type": "code",
        "colab": {}
      },
      "source": [
        "!ls '/content/gdrive/My Drive/dataset/test'"
      ],
      "execution_count": 0,
      "outputs": []
    },
    {
      "cell_type": "code",
      "metadata": {
        "id": "BudCDVhr6j9m",
        "colab_type": "code",
        "colab": {}
      },
      "source": [
        "!saved_model_cli show --dir ./gdrive/My\\ Drive/_models/flower/2 --all"
      ],
      "execution_count": 0,
      "outputs": []
    },
    {
      "cell_type": "markdown",
      "metadata": {
        "id": "dtcrFaYUN51m",
        "colab_type": "text"
      },
      "source": [
        "client test code for TF servering  "
      ]
    },
    {
      "cell_type": "code",
      "metadata": {
        "id": "SVA9_THbwjDl",
        "colab_type": "code",
        "colab": {}
      },
      "source": [
        "!wget -q -O \"1.jpg\" \"https://www.ocalendar.com.cn//storage/uploads/images/1561213187_Ik3R95v6OL.jpg\"\n",
        "!wget -q -O \"2.jpg\" \"https://www.ocalendar.com.cn//storage/uploads/images/1567077582_sQ9kqOtQUc.jpg\"\n",
        "!wget -q -O \"3.jpg\" \"https://www.ocalendar.com.cn//storage/uploads/images/1563020145_RGu8AStYOc.jpg\""
      ],
      "execution_count": 0,
      "outputs": []
    },
    {
      "cell_type": "code",
      "metadata": {
        "id": "cJtzAFG_5AbL",
        "colab_type": "code",
        "colab": {
          "base_uri": "https://localhost:8080/",
          "height": 35
        },
        "outputId": "0a4f5dd9-cd56-46d9-ae92-da7b0d31de43"
      },
      "source": [
        "!ls"
      ],
      "execution_count": 8,
      "outputs": [
        {
          "output_type": "stream",
          "text": [
            "1.jpg  2.jpg  3.jpg  gdrive  sample_data\n"
          ],
          "name": "stdout"
        }
      ]
    },
    {
      "cell_type": "code",
      "metadata": {
        "id": "Ja4aKPVBcOoa",
        "colab_type": "code",
        "colab": {}
      },
      "source": [
        "import requests\n",
        "import base64\n",
        "import json\n",
        "import tensorflow as tf\n",
        "\n",
        "url = \"http://8.210.62.249:8501/v1/models/flower:predict\"\n",
        "\n",
        "with open('1.jpg', \"rb\") as img_file:\n",
        "  encoded_string = base64.urlsafe_b64encode(img_file.read()).decode(\"utf-8\")\n",
        "data = json.dumps({\"instances\": [{\"b64_image_bytes\": encoded_string}]})\n",
        "\n",
        "print(data)\n",
        "\n",
        "r = requests.post(url = url, data = data)\n",
        "r.json()\n"
      ],
      "execution_count": 0,
      "outputs": []
    }
  ]
}